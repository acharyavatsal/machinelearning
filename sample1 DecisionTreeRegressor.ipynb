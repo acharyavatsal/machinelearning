import pandas as pd
from sklearn.model_selection import train_test_split
from sklearn.tree import DecisionTreeRegressor
from sklearn.metrics import mean_squared_error, r2_score
from sklearn.impute import SimpleImputer

# Read the CSV file into a DataFrame
data = pd.read_csv("C:/Users/siddheswar/OneDrive/Desktop/repurchase_dataset.csv")

# Handle categorical variables: One-hot encode 'gender', 'car_model', and 'car_segment' columns
data = pd.get_dummies(data, columns=['gender', 'car_model', 'car_segment'])

# Define a function to convert age bands to numerical values
import re

def convert_age_band_to_numeric(age_band):
    # Check if the input is a string or bytes-like object
    if isinstance(age_band, str):
        # Use regular expression to extract numeric values
        bounds = re.findall(r'\d+(?:\.\d+)?', age_band)
        if bounds:
            # Convert extracted values to floats and calculate the average
            values = [float(value) for value in bounds]
            return sum(values) / len(values)
        else:
            # Return None if no valid numeric values are found
            return None
    else:
        # Return None for non-string inputs
        return None

# Convert the 'age_band' column to numerical values
data['age_band'] = data['age_band'].apply(convert_age_band_to_numeric)

# Assuming 'Target' is your target variable and other columns are features
# Split the data into features (X) and target variable (y)
X = data.drop('Target', axis=1)
y = data['Target']

# Split the data into training and testing sets (80% train, 20% test)
X_train, X_test, y_train, y_test = train_test_split(X, y, test_size=0.2, random_state=42)

# Impute missing values in the features using mean imputation
imputer = SimpleImputer(strategy='mean')
X_train_imputed = imputer.fit_transform(X_train)
X_test_imputed = imputer.transform(X_test)

# Create a Decision Tree regression model
tree_model = DecisionTreeRegressor()

# Train the model on the imputed training data
tree_model.fit(X_train_imputed, y_train)

# Make predictions on the imputed test data
y_pred = tree_model.predict(X_test_imputed)

# Evaluate the model
mse = mean_squared_error(y_test, y_pred)
rmse = mse ** 0.5
r2 = r2_score(y_test, y_pred)

print("Mean Squared Error (MSE):", mse)
print("Root Mean Squared Error (RMSE):", rmse)
print("R-squared (R2) Score:", r2)
